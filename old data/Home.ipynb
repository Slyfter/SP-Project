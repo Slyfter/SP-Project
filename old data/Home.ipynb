{
 "cells": [
  {
   "cell_type": "code",
   "execution_count": null,
   "id": "31192264",
   "metadata": {},
   "outputs": [],
   "source": [
    "import pandas as pd\n",
    "import matplotlib.pyplot as plt\n",
    "import numpy as np\n",
    "#try other encoding?\n",
    "df = pd.read_csv(\"data.csv\", encoding = \"ISO-8859-1\", sep=\";\")\n",
    "\n",
    "goals=list(round(df['Goals']*df['90s']))\n",
    "shots=list(df['Shots']*df['90s'])\n",
    "players=list(df['Player'])\n"
   ]
  },
  {
   "cell_type": "code",
   "execution_count": null,
   "id": "53d1610d",
   "metadata": {},
   "outputs": [],
   "source": [
    "plt.figure(figsize=(12,8))\n",
    "plt.scatter(goals,shots,s=50,alpha=0.5)\n",
    "plt.axhline(y=80, color='red')\n",
    "plt.axvline(x=17.5, color='red')\n",
    "plt.xlabel(\"Goals\")\n",
    "plt.ylabel(\"Shots\")\n",
    "for i in range(len(players)):\n",
    "    if(goals[i]> 17 and shots[i]> 60):\n",
    "        plt.annotate(players[i],(goals[i], shots[i]), ha='left')"
   ]
  },
  {
   "cell_type": "code",
   "execution_count": null,
   "id": "b86aa507",
   "metadata": {},
   "outputs": [],
   "source": [
    "new = df[['Player', 'Pos', 'Squad', 'Comp']].copy()"
   ]
  },
  {
   "cell_type": "code",
   "execution_count": null,
   "id": "c3867186",
   "metadata": {},
   "outputs": [],
   "source": [
    "new['Goals'] = round(df['Goals'] * df['90s'])"
   ]
  },
  {
   "cell_type": "code",
   "execution_count": null,
   "id": "363b7754",
   "metadata": {},
   "outputs": [],
   "source": [
    "new.sort_values('Goals', ascending=False)"
   ]
  },
  {
   "cell_type": "code",
   "execution_count": null,
   "id": "db9a2d06",
   "metadata": {},
   "outputs": [],
   "source": [
    "import sys\n",
    "!{sys.executable} -m pip install tabulate\n",
    "from tabulate import tabulate"
   ]
  },
  {
   "cell_type": "code",
   "execution_count": null,
   "id": "00895698",
   "metadata": {},
   "outputs": [],
   "source": [
    "print(tabulate(new.sort_values('Goals', ascending=False), headers=\"keys\"))"
   ]
  },
  {
   "cell_type": "code",
   "execution_count": null,
   "id": "b53eb796",
   "metadata": {},
   "outputs": [],
   "source": []
  }
 ],
 "metadata": {
  "interpreter": {
   "hash": "34edd1552241c76a27f1410a62215150e48c7e744b18597a202553c3634d7e1c"
  },
  "kernelspec": {
   "display_name": "Python 3.9.7 ('spenv')",
   "language": "python",
   "name": "python3"
  },
  "language_info": {
   "codemirror_mode": {
    "name": "ipython",
    "version": 3
   },
   "file_extension": ".py",
   "mimetype": "text/x-python",
   "name": "python",
   "nbconvert_exporter": "python",
   "pygments_lexer": "ipython3",
   "version": "3.9.7"
  }
 },
 "nbformat": 4,
 "nbformat_minor": 5
}
