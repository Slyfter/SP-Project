{
 "cells": [
  {
   "cell_type": "code",
   "execution_count": 89,
   "id": "31192264",
   "metadata": {},
   "outputs": [],
   "source": [
    "import pandas as pd\n",
    "import matplotlib.pyplot as plt\n",
    "import numpy as np\n",
    "import plotly.graph_objects as go\n",
    "import ipywidgets as widgets\n",
    "from ipywidgets import interact, interact_manual\n",
    "\n",
    "from tabulate import tabulate\n",
    "\n",
    "\n"
   ]
  },
  {
   "cell_type": "code",
   "execution_count": 90,
   "id": "6897b613",
   "metadata": {},
   "outputs": [
    {
     "ename": "TypeError",
     "evalue": "unhashable type: 'Series'",
     "output_type": "error",
     "traceback": [
      "\u001b[1;31m---------------------------------------------------------------------------\u001b[0m",
      "\u001b[1;31mTypeError\u001b[0m                                 Traceback (most recent call last)",
      "\u001b[1;32mc:\\Users\\Sven\\OneDrive - ZHAW\\Hauptstudium\\4. Semester\\Scientific Programming\\SP Project\\Jupyter Notebooks\\PlayerComps.ipynb Cell 2'\u001b[0m in \u001b[0;36m<cell line: 4>\u001b[1;34m()\u001b[0m\n\u001b[0;32m      <a href='vscode-notebook-cell:/c%3A/Users/Sven/OneDrive%20-%20ZHAW/Hauptstudium/4.%20Semester/Scientific%20Programming/SP%20Project/Jupyter%20Notebooks/PlayerComps.ipynb#ch0000017?line=0'>1</a>\u001b[0m \u001b[39m#try other encoding?\u001b[39;00m\n\u001b[0;32m      <a href='vscode-notebook-cell:/c%3A/Users/Sven/OneDrive%20-%20ZHAW/Hauptstudium/4.%20Semester/Scientific%20Programming/SP%20Project/Jupyter%20Notebooks/PlayerComps.ipynb#ch0000017?line=1'>2</a>\u001b[0m df \u001b[39m=\u001b[39m pd\u001b[39m.\u001b[39mread_csv(\u001b[39m\"\u001b[39m\u001b[39mdata.csv\u001b[39m\u001b[39m\"\u001b[39m, encoding \u001b[39m=\u001b[39m \u001b[39m\"\u001b[39m\u001b[39mISO-8859-1\u001b[39m\u001b[39m\"\u001b[39m, sep\u001b[39m=\u001b[39m\u001b[39m\"\u001b[39m\u001b[39m;\u001b[39m\u001b[39m\"\u001b[39m)\n\u001b[1;32m----> <a href='vscode-notebook-cell:/c%3A/Users/Sven/OneDrive%20-%20ZHAW/Hauptstudium/4.%20Semester/Scientific%20Programming/SP%20Project/Jupyter%20Notebooks/PlayerComps.ipynb#ch0000017?line=3'>4</a>\u001b[0m goals\u001b[39m=\u001b[39m\u001b[39mlist\u001b[39;49m(\u001b[39mround\u001b[39;49m(df[\u001b[39m'\u001b[39;49m\u001b[39mGoals\u001b[39;49m\u001b[39m'\u001b[39;49m]\u001b[39m*\u001b[39;49mdf[\u001b[39m'\u001b[39;49m\u001b[39m90s\u001b[39;49m\u001b[39m'\u001b[39;49m]))\n\u001b[0;32m      <a href='vscode-notebook-cell:/c%3A/Users/Sven/OneDrive%20-%20ZHAW/Hauptstudium/4.%20Semester/Scientific%20Programming/SP%20Project/Jupyter%20Notebooks/PlayerComps.ipynb#ch0000017?line=4'>5</a>\u001b[0m shots\u001b[39m=\u001b[39m\u001b[39mlist\u001b[39m(df[\u001b[39m'\u001b[39m\u001b[39mShots\u001b[39m\u001b[39m'\u001b[39m]\u001b[39m*\u001b[39mdf[\u001b[39m'\u001b[39m\u001b[39m90s\u001b[39m\u001b[39m'\u001b[39m])\n\u001b[0;32m      <a href='vscode-notebook-cell:/c%3A/Users/Sven/OneDrive%20-%20ZHAW/Hauptstudium/4.%20Semester/Scientific%20Programming/SP%20Project/Jupyter%20Notebooks/PlayerComps.ipynb#ch0000017?line=5'>6</a>\u001b[0m players\u001b[39m=\u001b[39m\u001b[39mlist\u001b[39m(df[\u001b[39m'\u001b[39m\u001b[39mPlayer\u001b[39m\u001b[39m'\u001b[39m])\n",
      "File \u001b[1;32mc:\\Users\\Sven\\anaconda3\\envs\\spenv\\lib\\site-packages\\pandas\\core\\indexing.py:634\u001b[0m, in \u001b[0;36m_LocationIndexer.__call__\u001b[1;34m(self, axis)\u001b[0m\n\u001b[0;32m    <a href='file:///c%3A/Users/Sven/anaconda3/envs/spenv/lib/site-packages/pandas/core/indexing.py?line=630'>631</a>\u001b[0m new_self \u001b[39m=\u001b[39m \u001b[39mtype\u001b[39m(\u001b[39mself\u001b[39m)(\u001b[39mself\u001b[39m\u001b[39m.\u001b[39mname, \u001b[39mself\u001b[39m\u001b[39m.\u001b[39mobj)\n\u001b[0;32m    <a href='file:///c%3A/Users/Sven/anaconda3/envs/spenv/lib/site-packages/pandas/core/indexing.py?line=632'>633</a>\u001b[0m \u001b[39mif\u001b[39;00m axis \u001b[39mis\u001b[39;00m \u001b[39mnot\u001b[39;00m \u001b[39mNone\u001b[39;00m:\n\u001b[1;32m--> <a href='file:///c%3A/Users/Sven/anaconda3/envs/spenv/lib/site-packages/pandas/core/indexing.py?line=633'>634</a>\u001b[0m     axis \u001b[39m=\u001b[39m \u001b[39mself\u001b[39;49m\u001b[39m.\u001b[39;49mobj\u001b[39m.\u001b[39;49m_get_axis_number(axis)\n\u001b[0;32m    <a href='file:///c%3A/Users/Sven/anaconda3/envs/spenv/lib/site-packages/pandas/core/indexing.py?line=634'>635</a>\u001b[0m new_self\u001b[39m.\u001b[39maxis \u001b[39m=\u001b[39m axis\n\u001b[0;32m    <a href='file:///c%3A/Users/Sven/anaconda3/envs/spenv/lib/site-packages/pandas/core/indexing.py?line=635'>636</a>\u001b[0m \u001b[39mreturn\u001b[39;00m new_self\n",
      "File \u001b[1;32mc:\\Users\\Sven\\anaconda3\\envs\\spenv\\lib\\site-packages\\pandas\\core\\generic.py:550\u001b[0m, in \u001b[0;36mNDFrame._get_axis_number\u001b[1;34m(cls, axis)\u001b[0m\n\u001b[0;32m    <a href='file:///c%3A/Users/Sven/anaconda3/envs/spenv/lib/site-packages/pandas/core/generic.py?line=545'>546</a>\u001b[0m \u001b[39m@final\u001b[39m\n\u001b[0;32m    <a href='file:///c%3A/Users/Sven/anaconda3/envs/spenv/lib/site-packages/pandas/core/generic.py?line=546'>547</a>\u001b[0m \u001b[39m@classmethod\u001b[39m\n\u001b[0;32m    <a href='file:///c%3A/Users/Sven/anaconda3/envs/spenv/lib/site-packages/pandas/core/generic.py?line=547'>548</a>\u001b[0m \u001b[39mdef\u001b[39;00m \u001b[39m_get_axis_number\u001b[39m(\u001b[39mcls\u001b[39m, axis: Axis) \u001b[39m-\u001b[39m\u001b[39m>\u001b[39m \u001b[39mint\u001b[39m:\n\u001b[0;32m    <a href='file:///c%3A/Users/Sven/anaconda3/envs/spenv/lib/site-packages/pandas/core/generic.py?line=548'>549</a>\u001b[0m     \u001b[39mtry\u001b[39;00m:\n\u001b[1;32m--> <a href='file:///c%3A/Users/Sven/anaconda3/envs/spenv/lib/site-packages/pandas/core/generic.py?line=549'>550</a>\u001b[0m         \u001b[39mreturn\u001b[39;00m \u001b[39mcls\u001b[39;49m\u001b[39m.\u001b[39;49m_AXIS_TO_AXIS_NUMBER[axis]\n\u001b[0;32m    <a href='file:///c%3A/Users/Sven/anaconda3/envs/spenv/lib/site-packages/pandas/core/generic.py?line=550'>551</a>\u001b[0m     \u001b[39mexcept\u001b[39;00m \u001b[39mKeyError\u001b[39;00m:\n\u001b[0;32m    <a href='file:///c%3A/Users/Sven/anaconda3/envs/spenv/lib/site-packages/pandas/core/generic.py?line=551'>552</a>\u001b[0m         \u001b[39mraise\u001b[39;00m \u001b[39mValueError\u001b[39;00m(\u001b[39mf\u001b[39m\u001b[39m\"\u001b[39m\u001b[39mNo axis named \u001b[39m\u001b[39m{\u001b[39;00maxis\u001b[39m}\u001b[39;00m\u001b[39m for object type \u001b[39m\u001b[39m{\u001b[39;00m\u001b[39mcls\u001b[39m\u001b[39m.\u001b[39m\u001b[39m__name__\u001b[39m\u001b[39m}\u001b[39;00m\u001b[39m\"\u001b[39m)\n",
      "\u001b[1;31mTypeError\u001b[0m: unhashable type: 'Series'"
     ]
    }
   ],
   "source": [
    "#try other encoding?\n",
    "df = pd.read_csv(\"data.csv\", encoding = \"ISO-8859-1\", sep=\";\")\n",
    "\n",
    "goals=list(round(df['Goals']*df['90s']))\n",
    "shots=list(df['Shots']*df['90s'])\n",
    "players=list(df['Player'])"
   ]
  },
  {
   "cell_type": "code",
   "execution_count": null,
   "id": "53d1610d",
   "metadata": {},
   "outputs": [],
   "source": [
    "plt.figure(figsize=(12,8))\n",
    "plt.scatter(goals,shots,s=50,alpha=0.5)\n",
    "plt.axhline(y=80, color='red')\n",
    "plt.axvline(x=17.5, color='red')\n",
    "plt.xlabel(\"Goals\")\n",
    "plt.ylabel(\"Shots\")\n",
    "for i in range(len(players)):\n",
    "    if(goals[i]> 17 and shots[i]> 60):\n",
    "        plt.annotate(players[i],(goals[i], shots[i]), ha='left')"
   ]
  },
  {
   "cell_type": "code",
   "execution_count": null,
   "id": "b86aa507",
   "metadata": {},
   "outputs": [],
   "source": [
    "new = df[['Player', 'Pos', 'Squad', 'Comp']].copy()"
   ]
  },
  {
   "cell_type": "code",
   "execution_count": null,
   "id": "c3867186",
   "metadata": {},
   "outputs": [],
   "source": [
    "new['Goals'] = round(df['Goals'] * df['90s'])"
   ]
  },
  {
   "cell_type": "code",
   "execution_count": null,
   "id": "363b7754",
   "metadata": {},
   "outputs": [],
   "source": [
    "new.sort_values('Goals', ascending=False)"
   ]
  },
  {
   "cell_type": "code",
   "execution_count": null,
   "id": "00895698",
   "metadata": {},
   "outputs": [],
   "source": [
    "print(tabulate(new.sort_values('Goals', ascending=False), headers=\"keys\"))"
   ]
  },
  {
   "cell_type": "code",
   "execution_count": null,
   "id": "a6a62ffb",
   "metadata": {},
   "outputs": [],
   "source": [
    "# forward comparison\n",
    "# stats to be used: Goals, G/Sh, GCA, TouAttPen, DriSucc, AerWon% or AerWon"
   ]
  },
  {
   "cell_type": "code",
   "execution_count": null,
   "id": "65750de4",
   "metadata": {},
   "outputs": [],
   "source": [
    "df_spider = df[['Player', 'Pos', 'Comp', 'Squad', 'AerWon%', 'Min']].copy()\n",
    "df_spider.head()"
   ]
  },
  {
   "cell_type": "code",
   "execution_count": null,
   "id": "59b50eaa",
   "metadata": {},
   "outputs": [],
   "source": [
    "df_spider['Goals'] = round(df['Goals'] * df['90s'])\n",
    "df_spider['DriSucc'] = round(df['DriSucc'] * df['90s'])\n",
    "df_spider['TouAttPen'] = round(df['TouAttPen'] * df['90s'])\n",
    "df_spider['GCA'] = round(df['GCA'] * df['90s'])\n",
    "df_spider['G/Sh%'] = round(df['G/Sh'] * 100)\n",
    "df_spider"
   ]
  },
  {
   "cell_type": "code",
   "execution_count": null,
   "id": "e5b2d882",
   "metadata": {},
   "outputs": [
    {
     "data": {
      "text/html": [
       "<div>\n",
       "<style scoped>\n",
       "    .dataframe tbody tr th:only-of-type {\n",
       "        vertical-align: middle;\n",
       "    }\n",
       "\n",
       "    .dataframe tbody tr th {\n",
       "        vertical-align: top;\n",
       "    }\n",
       "\n",
       "    .dataframe thead th {\n",
       "        text-align: right;\n",
       "    }\n",
       "</style>\n",
       "<table border=\"1\" class=\"dataframe\">\n",
       "  <thead>\n",
       "    <tr style=\"text-align: right;\">\n",
       "      <th></th>\n",
       "      <th>Player</th>\n",
       "      <th>AerWon%</th>\n",
       "      <th>Goals</th>\n",
       "      <th>DriSucc</th>\n",
       "      <th>TouAttPen</th>\n",
       "      <th>GCA</th>\n",
       "      <th>G/Sh%</th>\n",
       "    </tr>\n",
       "  </thead>\n",
       "  <tbody>\n",
       "    <tr>\n",
       "      <th>0</th>\n",
       "      <td>Charles Abi</td>\n",
       "      <td>100.0</td>\n",
       "      <td>0.0</td>\n",
       "      <td>0.0</td>\n",
       "      <td>3.0</td>\n",
       "      <td>0.0</td>\n",
       "      <td>0.0</td>\n",
       "    </tr>\n",
       "    <tr>\n",
       "      <th>1</th>\n",
       "      <td>Dickson Abiama</td>\n",
       "      <td>35.5</td>\n",
       "      <td>0.0</td>\n",
       "      <td>6.0</td>\n",
       "      <td>31.0</td>\n",
       "      <td>2.0</td>\n",
       "      <td>0.0</td>\n",
       "    </tr>\n",
       "    <tr>\n",
       "      <th>2</th>\n",
       "      <td>Matthis Abline</td>\n",
       "      <td>0.0</td>\n",
       "      <td>0.0</td>\n",
       "      <td>1.0</td>\n",
       "      <td>3.0</td>\n",
       "      <td>0.0</td>\n",
       "      <td>0.0</td>\n",
       "    </tr>\n",
       "    <tr>\n",
       "      <th>3</th>\n",
       "      <td>Tammy Abraham</td>\n",
       "      <td>45.3</td>\n",
       "      <td>17.0</td>\n",
       "      <td>37.0</td>\n",
       "      <td>201.0</td>\n",
       "      <td>12.0</td>\n",
       "      <td>15.0</td>\n",
       "    </tr>\n",
       "    <tr>\n",
       "      <th>4</th>\n",
       "      <td>Che Adams</td>\n",
       "      <td>33.5</td>\n",
       "      <td>7.0</td>\n",
       "      <td>14.0</td>\n",
       "      <td>102.0</td>\n",
       "      <td>4.0</td>\n",
       "      <td>14.0</td>\n",
       "    </tr>\n",
       "  </tbody>\n",
       "</table>\n",
       "</div>"
      ],
      "text/plain": [
       "           Player  AerWon%  Goals  DriSucc  TouAttPen   GCA  G/Sh%\n",
       "0     Charles Abi    100.0    0.0      0.0        3.0   0.0    0.0\n",
       "1  Dickson Abiama     35.5    0.0      6.0       31.0   2.0    0.0\n",
       "2  Matthis Abline      0.0    0.0      1.0        3.0   0.0    0.0\n",
       "3   Tammy Abraham     45.3   17.0     37.0      201.0  12.0   15.0\n",
       "4       Che Adams     33.5    7.0     14.0      102.0   4.0   14.0"
      ]
     },
     "execution_count": 64,
     "metadata": {},
     "output_type": "execute_result"
    }
   ],
   "source": [
    "df_forward = df_spider[df_spider['Pos'] == 'FW']\n",
    "df_forwards_clean = df_forward.drop(['Pos', 'Comp', 'Squad', 'Min'], axis= 1)\n",
    "\n",
    "df_forwards_top5 = df_forwards_clean.head(5)\n",
    "df_forwards_top5 = df_forwards_top5.reset_index()\n",
    "df_forwards_top5 = df_forwards_top5.drop(columns='index')\n",
    "df_forwards_top5"
   ]
  },
  {
   "cell_type": "code",
   "execution_count": null,
   "id": "7539d71a",
   "metadata": {},
   "outputs": [],
   "source": []
  },
  {
   "cell_type": "code",
   "execution_count": null,
   "id": "be8aa4fc",
   "metadata": {},
   "outputs": [
    {
     "ename": "KeyError",
     "evalue": "0",
     "output_type": "error",
     "traceback": [
      "\u001b[1;31m---------------------------------------------------------------------------\u001b[0m",
      "\u001b[1;31mKeyError\u001b[0m                                  Traceback (most recent call last)",
      "File \u001b[1;32mc:\\Users\\Sven\\anaconda3\\envs\\spenv\\lib\\site-packages\\pandas\\core\\indexes\\base.py:3621\u001b[0m, in \u001b[0;36mIndex.get_loc\u001b[1;34m(self, key, method, tolerance)\u001b[0m\n\u001b[0;32m   <a href='file:///c%3A/Users/Sven/anaconda3/envs/spenv/lib/site-packages/pandas/core/indexes/base.py?line=3619'>3620</a>\u001b[0m \u001b[39mtry\u001b[39;00m:\n\u001b[1;32m-> <a href='file:///c%3A/Users/Sven/anaconda3/envs/spenv/lib/site-packages/pandas/core/indexes/base.py?line=3620'>3621</a>\u001b[0m     \u001b[39mreturn\u001b[39;00m \u001b[39mself\u001b[39;49m\u001b[39m.\u001b[39;49m_engine\u001b[39m.\u001b[39;49mget_loc(casted_key)\n\u001b[0;32m   <a href='file:///c%3A/Users/Sven/anaconda3/envs/spenv/lib/site-packages/pandas/core/indexes/base.py?line=3621'>3622</a>\u001b[0m \u001b[39mexcept\u001b[39;00m \u001b[39mKeyError\u001b[39;00m \u001b[39mas\u001b[39;00m err:\n",
      "File \u001b[1;32mc:\\Users\\Sven\\anaconda3\\envs\\spenv\\lib\\site-packages\\pandas\\_libs\\index.pyx:136\u001b[0m, in \u001b[0;36mpandas._libs.index.IndexEngine.get_loc\u001b[1;34m()\u001b[0m\n",
      "File \u001b[1;32mc:\\Users\\Sven\\anaconda3\\envs\\spenv\\lib\\site-packages\\pandas\\_libs\\index.pyx:163\u001b[0m, in \u001b[0;36mpandas._libs.index.IndexEngine.get_loc\u001b[1;34m()\u001b[0m\n",
      "File \u001b[1;32mpandas\\_libs\\hashtable_class_helper.pxi:5198\u001b[0m, in \u001b[0;36mpandas._libs.hashtable.PyObjectHashTable.get_item\u001b[1;34m()\u001b[0m\n",
      "File \u001b[1;32mpandas\\_libs\\hashtable_class_helper.pxi:5206\u001b[0m, in \u001b[0;36mpandas._libs.hashtable.PyObjectHashTable.get_item\u001b[1;34m()\u001b[0m\n",
      "\u001b[1;31mKeyError\u001b[0m: 0",
      "\nThe above exception was the direct cause of the following exception:\n",
      "\u001b[1;31mKeyError\u001b[0m                                  Traceback (most recent call last)",
      "\u001b[1;32mc:\\Users\\Sven\\OneDrive - ZHAW\\Hauptstudium\\4. Semester\\Scientific Programming\\SP Project\\Jupyter Notebooks\\PlayerComps.ipynb Cell 11'\u001b[0m in \u001b[0;36m<cell line: 1>\u001b[1;34m()\u001b[0m\n\u001b[0;32m      <a href='vscode-notebook-cell:/c%3A/Users/Sven/OneDrive%20-%20ZHAW/Hauptstudium/4.%20Semester/Scientific%20Programming/SP%20Project/Jupyter%20Notebooks/PlayerComps.ipynb#ch0000015?line=0'>1</a>\u001b[0m \u001b[39mfor\u001b[39;00m x \u001b[39min\u001b[39;00m \u001b[39mrange\u001b[39m(\u001b[39m5\u001b[39m):\n\u001b[1;32m----> <a href='vscode-notebook-cell:/c%3A/Users/Sven/OneDrive%20-%20ZHAW/Hauptstudium/4.%20Semester/Scientific%20Programming/SP%20Project/Jupyter%20Notebooks/PlayerComps.ipynb#ch0000015?line=1'>2</a>\u001b[0m     \u001b[39mif\u001b[39;00m df_forwards_top5[x] \u001b[39m==\u001b[39m \u001b[39m\"\u001b[39m\u001b[39mCharles Abi\u001b[39m\u001b[39m\"\u001b[39m:\n\u001b[0;32m      <a href='vscode-notebook-cell:/c%3A/Users/Sven/OneDrive%20-%20ZHAW/Hauptstudium/4.%20Semester/Scientific%20Programming/SP%20Project/Jupyter%20Notebooks/PlayerComps.ipynb#ch0000015?line=2'>3</a>\u001b[0m         a \u001b[39m=\u001b[39m df_forwards_top5\u001b[39m.\u001b[39mvalues\u001b[39m.\u001b[39mtolist()\n\u001b[0;32m      <a href='vscode-notebook-cell:/c%3A/Users/Sven/OneDrive%20-%20ZHAW/Hauptstudium/4.%20Semester/Scientific%20Programming/SP%20Project/Jupyter%20Notebooks/PlayerComps.ipynb#ch0000015?line=4'>5</a>\u001b[0m a\n",
      "File \u001b[1;32mc:\\Users\\Sven\\anaconda3\\envs\\spenv\\lib\\site-packages\\pandas\\core\\frame.py:3505\u001b[0m, in \u001b[0;36mDataFrame.__getitem__\u001b[1;34m(self, key)\u001b[0m\n\u001b[0;32m   <a href='file:///c%3A/Users/Sven/anaconda3/envs/spenv/lib/site-packages/pandas/core/frame.py?line=3502'>3503</a>\u001b[0m \u001b[39mif\u001b[39;00m \u001b[39mself\u001b[39m\u001b[39m.\u001b[39mcolumns\u001b[39m.\u001b[39mnlevels \u001b[39m>\u001b[39m \u001b[39m1\u001b[39m:\n\u001b[0;32m   <a href='file:///c%3A/Users/Sven/anaconda3/envs/spenv/lib/site-packages/pandas/core/frame.py?line=3503'>3504</a>\u001b[0m     \u001b[39mreturn\u001b[39;00m \u001b[39mself\u001b[39m\u001b[39m.\u001b[39m_getitem_multilevel(key)\n\u001b[1;32m-> <a href='file:///c%3A/Users/Sven/anaconda3/envs/spenv/lib/site-packages/pandas/core/frame.py?line=3504'>3505</a>\u001b[0m indexer \u001b[39m=\u001b[39m \u001b[39mself\u001b[39;49m\u001b[39m.\u001b[39;49mcolumns\u001b[39m.\u001b[39;49mget_loc(key)\n\u001b[0;32m   <a href='file:///c%3A/Users/Sven/anaconda3/envs/spenv/lib/site-packages/pandas/core/frame.py?line=3505'>3506</a>\u001b[0m \u001b[39mif\u001b[39;00m is_integer(indexer):\n\u001b[0;32m   <a href='file:///c%3A/Users/Sven/anaconda3/envs/spenv/lib/site-packages/pandas/core/frame.py?line=3506'>3507</a>\u001b[0m     indexer \u001b[39m=\u001b[39m [indexer]\n",
      "File \u001b[1;32mc:\\Users\\Sven\\anaconda3\\envs\\spenv\\lib\\site-packages\\pandas\\core\\indexes\\base.py:3623\u001b[0m, in \u001b[0;36mIndex.get_loc\u001b[1;34m(self, key, method, tolerance)\u001b[0m\n\u001b[0;32m   <a href='file:///c%3A/Users/Sven/anaconda3/envs/spenv/lib/site-packages/pandas/core/indexes/base.py?line=3620'>3621</a>\u001b[0m     \u001b[39mreturn\u001b[39;00m \u001b[39mself\u001b[39m\u001b[39m.\u001b[39m_engine\u001b[39m.\u001b[39mget_loc(casted_key)\n\u001b[0;32m   <a href='file:///c%3A/Users/Sven/anaconda3/envs/spenv/lib/site-packages/pandas/core/indexes/base.py?line=3621'>3622</a>\u001b[0m \u001b[39mexcept\u001b[39;00m \u001b[39mKeyError\u001b[39;00m \u001b[39mas\u001b[39;00m err:\n\u001b[1;32m-> <a href='file:///c%3A/Users/Sven/anaconda3/envs/spenv/lib/site-packages/pandas/core/indexes/base.py?line=3622'>3623</a>\u001b[0m     \u001b[39mraise\u001b[39;00m \u001b[39mKeyError\u001b[39;00m(key) \u001b[39mfrom\u001b[39;00m \u001b[39merr\u001b[39;00m\n\u001b[0;32m   <a href='file:///c%3A/Users/Sven/anaconda3/envs/spenv/lib/site-packages/pandas/core/indexes/base.py?line=3623'>3624</a>\u001b[0m \u001b[39mexcept\u001b[39;00m \u001b[39mTypeError\u001b[39;00m:\n\u001b[0;32m   <a href='file:///c%3A/Users/Sven/anaconda3/envs/spenv/lib/site-packages/pandas/core/indexes/base.py?line=3624'>3625</a>\u001b[0m     \u001b[39m# If we have a listlike key, _check_indexing_error will raise\u001b[39;00m\n\u001b[0;32m   <a href='file:///c%3A/Users/Sven/anaconda3/envs/spenv/lib/site-packages/pandas/core/indexes/base.py?line=3625'>3626</a>\u001b[0m     \u001b[39m#  InvalidIndexError. Otherwise we fall through and re-raise\u001b[39;00m\n\u001b[0;32m   <a href='file:///c%3A/Users/Sven/anaconda3/envs/spenv/lib/site-packages/pandas/core/indexes/base.py?line=3626'>3627</a>\u001b[0m     \u001b[39m#  the TypeError.\u001b[39;00m\n\u001b[0;32m   <a href='file:///c%3A/Users/Sven/anaconda3/envs/spenv/lib/site-packages/pandas/core/indexes/base.py?line=3627'>3628</a>\u001b[0m     \u001b[39mself\u001b[39m\u001b[39m.\u001b[39m_check_indexing_error(key)\n",
      "\u001b[1;31mKeyError\u001b[0m: 0"
     ]
    }
   ],
   "source": [
    "\n",
    "for x in range(5):\n",
    "    if df_forwards_top5[x] == \"Charles Abi\":\n",
    "        a = df_forwards_top5.values.tolist()\n",
    "\n",
    "a"
   ]
  },
  {
   "cell_type": "code",
   "execution_count": null,
   "id": "f15428f0",
   "metadata": {},
   "outputs": [
    {
     "ename": "ValueError",
     "evalue": "No axis named 2 for object type DataFrame",
     "output_type": "error",
     "traceback": [
      "\u001b[1;31m---------------------------------------------------------------------------\u001b[0m",
      "\u001b[1;31mKeyError\u001b[0m                                  Traceback (most recent call last)",
      "File \u001b[1;32mc:\\Users\\Sven\\anaconda3\\envs\\spenv\\lib\\site-packages\\pandas\\core\\generic.py:550\u001b[0m, in \u001b[0;36mNDFrame._get_axis_number\u001b[1;34m(cls, axis)\u001b[0m\n\u001b[0;32m    <a href='file:///c%3A/Users/Sven/anaconda3/envs/spenv/lib/site-packages/pandas/core/generic.py?line=548'>549</a>\u001b[0m \u001b[39mtry\u001b[39;00m:\n\u001b[1;32m--> <a href='file:///c%3A/Users/Sven/anaconda3/envs/spenv/lib/site-packages/pandas/core/generic.py?line=549'>550</a>\u001b[0m     \u001b[39mreturn\u001b[39;00m \u001b[39mcls\u001b[39;49m\u001b[39m.\u001b[39;49m_AXIS_TO_AXIS_NUMBER[axis]\n\u001b[0;32m    <a href='file:///c%3A/Users/Sven/anaconda3/envs/spenv/lib/site-packages/pandas/core/generic.py?line=550'>551</a>\u001b[0m \u001b[39mexcept\u001b[39;00m \u001b[39mKeyError\u001b[39;00m:\n",
      "\u001b[1;31mKeyError\u001b[0m: 2",
      "\nDuring handling of the above exception, another exception occurred:\n",
      "\u001b[1;31mValueError\u001b[0m                                Traceback (most recent call last)",
      "\u001b[1;32mc:\\Users\\Sven\\OneDrive - ZHAW\\Hauptstudium\\4. Semester\\Scientific Programming\\SP Project\\Jupyter Notebooks\\PlayerComps.ipynb Cell 11'\u001b[0m in \u001b[0;36m<cell line: 3>\u001b[1;34m()\u001b[0m\n\u001b[0;32m      <a href='vscode-notebook-cell:/c%3A/Users/Sven/OneDrive%20-%20ZHAW/Hauptstudium/4.%20Semester/Scientific%20Programming/SP%20Project/Jupyter%20Notebooks/PlayerComps.ipynb#ch0000013?line=0'>1</a>\u001b[0m a \u001b[39m=\u001b[39m []\n\u001b[0;32m      <a href='vscode-notebook-cell:/c%3A/Users/Sven/OneDrive%20-%20ZHAW/Hauptstudium/4.%20Semester/Scientific%20Programming/SP%20Project/Jupyter%20Notebooks/PlayerComps.ipynb#ch0000013?line=2'>3</a>\u001b[0m \u001b[39mfor\u001b[39;00m x \u001b[39min\u001b[39;00m \u001b[39mrange\u001b[39m(\u001b[39mlen\u001b[39m(df_forwards_top5[\u001b[39m'\u001b[39m\u001b[39mPlayer\u001b[39m\u001b[39m'\u001b[39m])):\n\u001b[1;32m----> <a href='vscode-notebook-cell:/c%3A/Users/Sven/OneDrive%20-%20ZHAW/Hauptstudium/4.%20Semester/Scientific%20Programming/SP%20Project/Jupyter%20Notebooks/PlayerComps.ipynb#ch0000013?line=3'>4</a>\u001b[0m     a \u001b[39m=\u001b[39m df_forwards_top5\u001b[39m.\u001b[39;49miloc(x)\n\u001b[0;32m      <a href='vscode-notebook-cell:/c%3A/Users/Sven/OneDrive%20-%20ZHAW/Hauptstudium/4.%20Semester/Scientific%20Programming/SP%20Project/Jupyter%20Notebooks/PlayerComps.ipynb#ch0000013?line=5'>6</a>\u001b[0m a\n",
      "File \u001b[1;32mc:\\Users\\Sven\\anaconda3\\envs\\spenv\\lib\\site-packages\\pandas\\core\\indexing.py:634\u001b[0m, in \u001b[0;36m_LocationIndexer.__call__\u001b[1;34m(self, axis)\u001b[0m\n\u001b[0;32m    <a href='file:///c%3A/Users/Sven/anaconda3/envs/spenv/lib/site-packages/pandas/core/indexing.py?line=630'>631</a>\u001b[0m new_self \u001b[39m=\u001b[39m \u001b[39mtype\u001b[39m(\u001b[39mself\u001b[39m)(\u001b[39mself\u001b[39m\u001b[39m.\u001b[39mname, \u001b[39mself\u001b[39m\u001b[39m.\u001b[39mobj)\n\u001b[0;32m    <a href='file:///c%3A/Users/Sven/anaconda3/envs/spenv/lib/site-packages/pandas/core/indexing.py?line=632'>633</a>\u001b[0m \u001b[39mif\u001b[39;00m axis \u001b[39mis\u001b[39;00m \u001b[39mnot\u001b[39;00m \u001b[39mNone\u001b[39;00m:\n\u001b[1;32m--> <a href='file:///c%3A/Users/Sven/anaconda3/envs/spenv/lib/site-packages/pandas/core/indexing.py?line=633'>634</a>\u001b[0m     axis \u001b[39m=\u001b[39m \u001b[39mself\u001b[39;49m\u001b[39m.\u001b[39;49mobj\u001b[39m.\u001b[39;49m_get_axis_number(axis)\n\u001b[0;32m    <a href='file:///c%3A/Users/Sven/anaconda3/envs/spenv/lib/site-packages/pandas/core/indexing.py?line=634'>635</a>\u001b[0m new_self\u001b[39m.\u001b[39maxis \u001b[39m=\u001b[39m axis\n\u001b[0;32m    <a href='file:///c%3A/Users/Sven/anaconda3/envs/spenv/lib/site-packages/pandas/core/indexing.py?line=635'>636</a>\u001b[0m \u001b[39mreturn\u001b[39;00m new_self\n",
      "File \u001b[1;32mc:\\Users\\Sven\\anaconda3\\envs\\spenv\\lib\\site-packages\\pandas\\core\\generic.py:552\u001b[0m, in \u001b[0;36mNDFrame._get_axis_number\u001b[1;34m(cls, axis)\u001b[0m\n\u001b[0;32m    <a href='file:///c%3A/Users/Sven/anaconda3/envs/spenv/lib/site-packages/pandas/core/generic.py?line=549'>550</a>\u001b[0m     \u001b[39mreturn\u001b[39;00m \u001b[39mcls\u001b[39m\u001b[39m.\u001b[39m_AXIS_TO_AXIS_NUMBER[axis]\n\u001b[0;32m    <a href='file:///c%3A/Users/Sven/anaconda3/envs/spenv/lib/site-packages/pandas/core/generic.py?line=550'>551</a>\u001b[0m \u001b[39mexcept\u001b[39;00m \u001b[39mKeyError\u001b[39;00m:\n\u001b[1;32m--> <a href='file:///c%3A/Users/Sven/anaconda3/envs/spenv/lib/site-packages/pandas/core/generic.py?line=551'>552</a>\u001b[0m     \u001b[39mraise\u001b[39;00m \u001b[39mValueError\u001b[39;00m(\u001b[39mf\u001b[39m\u001b[39m\"\u001b[39m\u001b[39mNo axis named \u001b[39m\u001b[39m{\u001b[39;00maxis\u001b[39m}\u001b[39;00m\u001b[39m for object type \u001b[39m\u001b[39m{\u001b[39;00m\u001b[39mcls\u001b[39m\u001b[39m.\u001b[39m\u001b[39m__name__\u001b[39m\u001b[39m}\u001b[39;00m\u001b[39m\"\u001b[39m)\n",
      "\u001b[1;31mValueError\u001b[0m: No axis named 2 for object type DataFrame"
     ]
    }
   ],
   "source": [
    "\n",
    "for x in range(len(df_forwards_top5['Player'])):\n",
    "    a = df_forwards_top5.iloc(x)\n",
    "\n"
   ]
  },
  {
   "cell_type": "code",
   "execution_count": null,
   "id": "ff637c7f",
   "metadata": {},
   "outputs": [
    {
     "data": {
      "text/html": [
       "<div>\n",
       "<style scoped>\n",
       "    .dataframe tbody tr th:only-of-type {\n",
       "        vertical-align: middle;\n",
       "    }\n",
       "\n",
       "    .dataframe tbody tr th {\n",
       "        vertical-align: top;\n",
       "    }\n",
       "\n",
       "    .dataframe thead th {\n",
       "        text-align: right;\n",
       "    }\n",
       "</style>\n",
       "<table border=\"1\" class=\"dataframe\">\n",
       "  <thead>\n",
       "    <tr style=\"text-align: right;\">\n",
       "      <th></th>\n",
       "      <th>AerWon%</th>\n",
       "      <th>Min</th>\n",
       "      <th>Goals</th>\n",
       "      <th>DriSucc</th>\n",
       "      <th>TouAttPen</th>\n",
       "      <th>GCA</th>\n",
       "      <th>G/Sh%</th>\n",
       "    </tr>\n",
       "    <tr>\n",
       "      <th>Pos</th>\n",
       "      <th></th>\n",
       "      <th></th>\n",
       "      <th></th>\n",
       "      <th></th>\n",
       "      <th></th>\n",
       "      <th></th>\n",
       "      <th></th>\n",
       "    </tr>\n",
       "  </thead>\n",
       "  <tbody>\n",
       "    <tr>\n",
       "      <th>FW</th>\n",
       "      <td>34.372076</td>\n",
       "      <td>1010.463007</td>\n",
       "      <td>4.398568</td>\n",
       "      <td>12.088305</td>\n",
       "      <td>61.319809</td>\n",
       "      <td>3.892601</td>\n",
       "      <td>9.439141</td>\n",
       "    </tr>\n",
       "  </tbody>\n",
       "</table>\n",
       "</div>"
      ],
      "text/plain": [
       "       AerWon%          Min     Goals    DriSucc  TouAttPen       GCA  \\\n",
       "Pos                                                                     \n",
       "FW   34.372076  1010.463007  4.398568  12.088305  61.319809  3.892601   \n",
       "\n",
       "        G/Sh%  \n",
       "Pos            \n",
       "FW   9.439141  "
      ]
     },
     "execution_count": 28,
     "metadata": {},
     "output_type": "execute_result"
    }
   ],
   "source": [
    "df_forward.groupby('Pos').mean()"
   ]
  },
  {
   "cell_type": "code",
   "execution_count": null,
   "id": "09fc7178",
   "metadata": {},
   "outputs": [],
   "source": [
    "\n",
    "categories = ['Goals', 'Successful Dribbles', 'Touches in Attacking Penalty Area', 'Goal-Creating Actions', 'Aerials Won in %', 'Goals per Shot in %']\n",
    "\n",
    "fig = go.Figure()\n",
    "\n",
    "fig.add_trace(go.Scatterpolar(\n",
    "      r=[1, 5, 2, 2, 3, 6],\n",
    "      theta=categories,\n",
    "      fill='toself',\n",
    "      name='Product A'\n",
    "))\n",
    "fig.add_trace(go.Scatterpolar(\n",
    "      r=[4, 3, 2.5, 1, 2, 6],\n",
    "      theta=categories,\n",
    "      fill='toself',\n",
    "      name='Product B'\n",
    "))\n",
    "\n",
    "fig.update_layout(\n",
    "  polar=dict(\n",
    "    radialaxis=dict(\n",
    "      visible=True,\n",
    "      range=[0, 6]\n",
    "    )),\n",
    "  showlegend=False\n",
    ")\n",
    "\n",
    "fig.show()"
   ]
  },
  {
   "cell_type": "code",
   "execution_count": null,
   "id": "db9a2d06",
   "metadata": {},
   "outputs": [],
   "source": []
  }
 ],
 "metadata": {
  "interpreter": {
   "hash": "34edd1552241c76a27f1410a62215150e48c7e744b18597a202553c3634d7e1c"
  },
  "kernelspec": {
   "display_name": "Python 3.9.7 ('spenv')",
   "language": "python",
   "name": "python3"
  },
  "language_info": {
   "codemirror_mode": {
    "name": "ipython",
    "version": 3
   },
   "file_extension": ".py",
   "mimetype": "text/x-python",
   "name": "python",
   "nbconvert_exporter": "python",
   "pygments_lexer": "ipython3",
   "version": "3.9.7"
  }
 },
 "nbformat": 4,
 "nbformat_minor": 5
}
