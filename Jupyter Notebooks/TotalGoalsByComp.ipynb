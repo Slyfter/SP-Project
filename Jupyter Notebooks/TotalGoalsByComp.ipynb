{
 "cells": [
  {
   "cell_type": "code",
   "execution_count": null,
   "metadata": {},
   "outputs": [],
   "source": [
    "import pandas as pd\n",
    "import numpy as np\n",
    "from matplotlib import pyplot as plt\n",
    "import textwrap\n",
    "\n",
    "import ipywidgets as widgets\n",
    "from ipywidgets import interact, interact_manual\n",
    "import IPython.display\n",
    "from IPython.display import display, clear_output\n",
    "\n",
    "import plotly.graph_objects as go\n",
    "\n",
    "df = pd.read_csv(\"data.csv\", encoding = \"ISO-8859-1\", sep=\";\")\n",
    "\n",
    "df.insert(2,\"RealGoals\", round(df['90s']*df['Goals']))\n",
    "df.insert(3,'RealShots', round(df['90s']*df['Shots']))"
   ]
  },
  {
   "cell_type": "code",
   "execution_count": 15,
   "metadata": {},
   "outputs": [
    {
     "data": {
      "image/png": "[encoded data removed]",
      "text/plain": [
       "<Figure size 720x360 with 1 Axes>"
      ]
     },
     "metadata": {
      "needs_background": "light"
     },
     "output_type": "display_data"
    }
   ],
   "source": [
    "df_GoalsbyComps = df.groupby('Comp', as_index=False).sum()\n",
    "df_GoalsbyCompsTemp = df_GoalsbyComps[['Comp','RealGoals']]\n",
    "\n",
    "courses = list(df_GoalsbyCompsTemp['Comp'])\n",
    "values = list(df_GoalsbyCompsTemp['RealGoals'])\n",
    "\n",
    "fig = plt.figure(figsize = (10,5))\n",
    "\n",
    "plt.bar(courses, values, color = 'blue', width = 0.4)\n",
    "\n",
    "plt.xlabel(\"Ligen\")\n",
    "plt.ylabel(\"Number of goals\")\n",
    "plt.title(\"Total number of goals for each league\")\n",
    "plt.show()"
   ]
  },
  {
   "cell_type": "code",
   "execution_count": null,
   "metadata": {},
   "outputs": [],
   "source": [
    "df_GoalsbySquads = df.groupby(['Comp','Squad'], as_index=False).sum()\n",
    "\n",
    "df_GoalsbySquadTemp = df_GoalsbySquads[['Comp','Squad','RealGoals','RealShots']]\n",
    "\n",
    "df_GoalsbySquadsBL = df_GoalsbySquadTemp[df_GoalsbySquadTemp['Comp'] == \"Bundesliga\"]\n",
    "\n",
    "df_GoalsbySquadsBL\n",
    "\n",
    "goalsBL = list(df_GoalsbySquadsBL['RealGoals'])\n",
    "shotsBL = list(df_GoalsbySquadsBL['RealShots'])\n",
    "squadsBL = list(df_GoalsbySquadsBL['Squad'])\n",
    "\n",
    "def ShowBLGraph():\n",
    "    plt.figure(figsize=(12,8))\n",
    "    plt.scatter(goalsBL,shotsBL,s=50,alpha=0.5)\n",
    "    plt.axhline(y=500, color='red')\n",
    "    plt.axvline(x=60, color='red')\n",
    "    plt.xlabel(\"Goals\")\n",
    "    plt.ylabel(\"Shots\")\n",
    "    plt.title(\"Bundesliga - Shots / Goal ratio\")\n",
    "    for i in range(len(squadsBL)):\n",
    "        if(goalsBL[i]> 60):\n",
    "            plt.annotate(squadsBL[i],(goalsBL[i], shotsBL[i]), ha='left')\n",
    "    plt.show()\n",
    "ShowBLGraph()"
   ]
  },
  {
   "cell_type": "code",
   "execution_count": null,
   "metadata": {},
   "outputs": [],
   "source": [
    "df_GoalsbySquads = df.groupby(['Comp','Squad'], as_index=False).sum()\n",
    "\n",
    "df_GoalsbySquadTemp = df_GoalsbySquads[['Comp','Squad','RealGoals','RealShots']]\n",
    "\n",
    "df_GoalsbySquadsLL = df_GoalsbySquadTemp[df_GoalsbySquadTemp['Comp'] == \"La Liga\"]\n",
    "\n",
    "df_GoalsbySquadsLL\n",
    "\n",
    "goalsLL = list(df_GoalsbySquadsLL['RealGoals'])\n",
    "shotsLL = list(df_GoalsbySquadsLL['RealShots'])\n",
    "squadsLL = list(df_GoalsbySquadsLL['Squad'])\n",
    "\n",
    "def ShowLLGraph():\n",
    "    plt.figure(figsize=(12,8))\n",
    "    plt.scatter(goalsLL,shotsLL,s=50,alpha=0.5)\n",
    "    plt.axhline(y=500, color='red')\n",
    "    plt.axvline(x=55, color='red')\n",
    "    plt.xlabel(\"Goals\")\n",
    "    plt.ylabel(\"Shots\")\n",
    "    plt.title(\"La Liga - Shots / Goal ratio\")\n",
    "    for i in range(len(squadsLL)):\n",
    "        if(goalsLL[i]> 55):\n",
    "            plt.annotate(squadsLL[i],(goalsLL[i], shotsLL[i]), ha='left')\n",
    "\n",
    "ShowLLGraph()"
   ]
  },
  {
   "cell_type": "code",
   "execution_count": null,
   "metadata": {},
   "outputs": [],
   "source": [
    "df_GoalsbySquads = df.groupby(['Comp','Squad'], as_index=False).sum()\n",
    "\n",
    "df_GoalsbySquadTemp = df_GoalsbySquads[['Comp','Squad','RealGoals','RealShots']]\n",
    "\n",
    "df_GoalsbySquadsL1 = df_GoalsbySquadTemp[df_GoalsbySquadTemp['Comp'] == \"Ligue 1\"]\n",
    "\n",
    "df_GoalsbySquadsL1\n",
    "\n",
    "goalsL1 = list(df_GoalsbySquadsL1['RealGoals'])\n",
    "shotsL1 = list(df_GoalsbySquadsL1['RealShots'])\n",
    "squadsL1 = list(df_GoalsbySquadsL1['Squad'])\n",
    "\n",
    "def ShowL1Graph():\n",
    "    plt.figure(figsize=(12,8))\n",
    "    plt.scatter(goalsL1,shotsL1,s=50,alpha=0.5)\n",
    "    plt.axhline(y=463, color='red')\n",
    "    plt.axvline(x=60, color='red')\n",
    "    plt.xlabel(\"Goals\")\n",
    "    plt.ylabel(\"Shots\")\n",
    "    plt.title(\"Ligue 1 - Shots / Goal ratio\")\n",
    "    for i in range(len(squadsL1)):\n",
    "        if(goalsL1[i]>= 60):\n",
    "            plt.annotate(squadsL1[i],(goalsL1[i], shotsL1[i]), ha='left')\n",
    "\n",
    "ShowL1Graph()\n"
   ]
  },
  {
   "cell_type": "code",
   "execution_count": null,
   "metadata": {},
   "outputs": [],
   "source": [
    "df_GoalsbySquads = df.groupby(['Comp','Squad'], as_index=False).sum()\n",
    "\n",
    "df_GoalsbySquadTemp = df_GoalsbySquads[['Comp','Squad','RealGoals','RealShots']]\n",
    "\n",
    "df_GoalsbySquadsPL = df_GoalsbySquadTemp[df_GoalsbySquadTemp['Comp'] == \"Premier League\"]\n",
    "\n",
    "df_GoalsbySquadsPL\n",
    "\n",
    "goalsPL = list(df_GoalsbySquadsPL['RealGoals'])\n",
    "shotsPL = list(df_GoalsbySquadsPL['RealShots'])\n",
    "squadsPL = list(df_GoalsbySquadsPL['Squad'])\n",
    "\n",
    "def ShowPLGraph():\n",
    "    plt.figure(figsize=(12,8))\n",
    "    plt.scatter(goalsPL,shotsPL,s=50,alpha=0.5)\n",
    "    plt.axhline(y=550, color='red')\n",
    "    plt.axvline(x=60, color='red')\n",
    "    plt.xlabel(\"Goals\")\n",
    "    plt.ylabel(\"Shots\")\n",
    "    plt.title(\"Premier League - Shots / Goal ratio\")\n",
    "    for i in range(len(squadsPL)):\n",
    "        if(goalsPL[i]>= 60):\n",
    "            plt.annotate(squadsPL[i],(goalsPL[i], shotsPL[i]), ha='left')\n",
    "\n",
    "ShowPLGraph()\n",
    "\n"
   ]
  },
  {
   "cell_type": "code",
   "execution_count": null,
   "metadata": {},
   "outputs": [],
   "source": [
    "df_GoalsbySquads = df.groupby(['Comp','Squad'], as_index=False).sum()\n",
    "\n",
    "df_GoalsbySquadTemp = df_GoalsbySquads[['Comp','Squad','RealGoals','RealShots']]\n",
    "\n",
    "df_GoalsbySquadsSA = df_GoalsbySquadTemp[df_GoalsbySquadTemp['Comp'] == \"Serie A\"]\n",
    "\n",
    "df_GoalsbySquadsSA\n",
    "\n",
    "goalsSA = list(df_GoalsbySquadsSA['RealGoals'])\n",
    "shotsSA = list(df_GoalsbySquadsSA['RealShots'])\n",
    "squadsSA = list(df_GoalsbySquadsSA['Squad'])\n",
    "\n",
    "def ShowSAGraph():\n",
    "    plt.figure(figsize=(12,8))\n",
    "    plt.scatter(goalsSA,shotsSA,s=50,alpha=0.5)\n",
    "    plt.axhline(y=500, color='red')\n",
    "    plt.axvline(x=55, color='red')\n",
    "    plt.xlabel(\"Goals\")\n",
    "    plt.ylabel(\"Shots\")\n",
    "    plt.title(\"Serie A - Shots / Goal ratio\")\n",
    "    for i in range(len(squadsSA)):\n",
    "        if(goalsSA[i]>= 55):\n",
    "            plt.annotate(squadsSA[i],(goalsSA[i], shotsSA[i]), ha='left')\n",
    "    plt.show()\n",
    "\n",
    "ShowSAGraph()\n",
    "\n"
   ]
  },
  {
   "cell_type": "code",
   "execution_count": 16,
   "metadata": {},
   "outputs": [
    {
     "data": {
      "application/vnd.jupyter.widget-view+json": {
       "model_id": "aa9d53ca7ad84968a5d2004db075eb45",
       "version_major": 2,
       "version_minor": 0
      },
      "text/plain": [
       "interactive(children=(Dropdown(description='League', options=('Bundesliga', 'La Liga', 'Ligue 1', 'Premier Lea…"
      ]
     },
     "metadata": {},
     "output_type": "display_data"
    },
    {
     "data": {
      "text/plain": [
       "<function __main__.ShowGraph(League)>"
      ]
     },
     "execution_count": 16,
     "metadata": {},
     "output_type": "execute_result"
    }
   ],
   "source": [
    "ligen = df.groupby('Comp', as_index=False).sum()\n",
    "\n",
    "ligenComp = list(ligen['Comp'])\n",
    "\n",
    "League = widgets.Dropdown(\n",
    "    options = ligenComp,\n",
    "    value = None,\n",
    "    description='League:',\n",
    ")\n",
    "\n",
    "def ShowGraph(League):\n",
    "    if(League == 'Bundesliga'):\n",
    "        clear_output()\n",
    "        ShowBLGraph()\n",
    "    if(League == 'La Liga'):\n",
    "        clear_output()\n",
    "        ShowLLGraph()\n",
    "    if(League == 'Serie A'):\n",
    "        clear_output()\n",
    "        ShowSAGraph()\n",
    "    if(League == 'Ligue 1'):\n",
    "        clear_output()\n",
    "        ShowL1Graph()\n",
    "    if(League == 'Premier League'):\n",
    "        clear_output()\n",
    "        ShowPLGraph()\n",
    "        \n",
    "widgets.interact(ShowGraph, League=ligenComp)\n"
   ]
  },
  {
   "cell_type": "code",
   "execution_count": null,
   "metadata": {},
   "outputs": [],
   "source": []
  }
 ],
 "metadata": {
  "interpreter": {
   "hash": "34edd1552241c76a27f1410a62215150e48c7e744b18597a202553c3634d7e1c"
  },
  "kernelspec": {
   "display_name": "Python 3.9.7 ('spenv')",
   "language": "python",
   "name": "python3"
  },
  "language_info": {
   "codemirror_mode": {
    "name": "ipython",
    "version": 3
   },
   "file_extension": ".py",
   "mimetype": "text/x-python",
   "name": "python",
   "nbconvert_exporter": "python",
   "pygments_lexer": "ipython3",
   "version": "3.9.7"
  },
  "orig_nbformat": 4
 },
 "nbformat": 4,
 "nbformat_minor": 2
}
