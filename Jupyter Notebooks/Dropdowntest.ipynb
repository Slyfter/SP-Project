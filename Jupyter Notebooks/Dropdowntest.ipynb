{
 "cells": [
  {
   "cell_type": "code",
   "execution_count": null,
   "metadata": {},
   "outputs": [],
   "source": [
    "import pandas as pd\n",
    "import numpy as np\n",
    "from matplotlib import pyplot as plt\n",
    "import textwrap\n",
    "\n",
    "import ipywidgets as widgets\n",
    "from ipywidgets import interact, interact_manual\n",
    "import IPython.display\n",
    "from IPython.display import display, clear_output\n",
    "\n",
    "import plotly.graph_objects as go"
   ]
  },
  {
   "cell_type": "code",
   "execution_count": null,
   "metadata": {},
   "outputs": [],
   "source": [
    "df = pd.read_csv(\"data.csv\", encoding = \"ISO-8859-1\", sep=\";\")\n",
    "\n",
    "df"
   ]
  },
  {
   "cell_type": "code",
   "execution_count": null,
   "metadata": {},
   "outputs": [],
   "source": [
    "df_FW = df[df['Pos'] == 'FW']\n",
    "\n",
    "df_FW = df_FW[['Player', 'Pos', 'Comp', 'Squad', 'AerWon%', 'Min']].copy()\n",
    "df_FW['Goals'] = round(df['Goals'] * df['90s'])\n",
    "df_FW['DriSucc'] = round(df['DriSucc'] * df['90s'])\n",
    "df_FW['TouAttPen'] = round(df['TouAttPen'] * df['90s'])\n",
    "df_FW['GCA'] = round(df['GCA'] * df['90s'])\n",
    "df_FW['G/Sh%'] = round(df['G/Sh'] * 100)\n",
    "df_FW\n",
    "\n",
    "df_FW"
   ]
  },
  {
   "cell_type": "code",
   "execution_count": null,
   "metadata": {},
   "outputs": [],
   "source": [
    "name = 'Robert Lewandowski'\n",
    "\n",
    "for x in range(len(df_FW['Player'])):\n",
    "    name = df_FW['Player']\n",
    "    list = df_FW[df_FW['Player'] == name].values.tolist()\n",
    "    print(list)\n"
   ]
  },
  {
   "cell_type": "code",
   "execution_count": null,
   "metadata": {},
   "outputs": [],
   "source": [
    "\n",
    "\n",
    "playerList = list(df_FW['Player'])\n",
    "playerList"
   ]
  },
  {
   "cell_type": "code",
   "execution_count": null,
   "metadata": {},
   "outputs": [],
   "source": [
    "ligen = df.groupby('Comp', as_index=False).sum()\n",
    "\n",
    "ligenComp = list(ligen['Comp'])\n",
    "ligenComp.append('All Leagues')\n",
    "ligenComp.sort()\n",
    "\n",
    "ligenComp\n"
   ]
  },
  {
   "cell_type": "code",
   "execution_count": null,
   "metadata": {},
   "outputs": [],
   "source": [
    "PlayerDropdown = widgets.Dropdown(\n",
    "    options = playerList,\n",
    "    value = None,\n",
    "    description='Player:',\n",
    ")\n",
    "        \n",
    "#widgets.interact(ShowGraph, League=ligenComp)\n"
   ]
  },
  {
   "cell_type": "code",
   "execution_count": null,
   "metadata": {},
   "outputs": [],
   "source": [
    "df_complist = df_FW['Comp']\n",
    "df_complist = df_complist.drop_duplicates()\n",
    "complist = df_complist\n",
    "\n",
    "complist"
   ]
  },
  {
   "cell_type": "code",
   "execution_count": null,
   "metadata": {},
   "outputs": [],
   "source": [
    "playerlistBL = df_FW[df_FW['Comp'] == 'Bundesliga']\n",
    "\n",
    "playerlistBL"
   ]
  },
  {
   "cell_type": "code",
   "execution_count": 57,
   "metadata": {},
   "outputs": [
    {
     "name": "stdout",
     "output_type": "stream",
     "text": [
      "[49.0, 2946, 35.0, 34.0, 273.0, 15.0, 19.0]\n"
     ]
    }
   ],
   "source": [
    "name = 'Robert Lewandowski'\n",
    "\n",
    "list = df_FW[df_FW['Player'] == name].values.tolist()\n",
    "x = list[0]\n",
    "x.pop(0)\n",
    "x.pop(0)\n",
    "x.pop(0)\n",
    "x.pop(0)\n",
    "print(x)"
   ]
  },
  {
   "cell_type": "code",
   "execution_count": 59,
   "metadata": {},
   "outputs": [
    {
     "data": {
      "text/plain": [
       "7          Tammy Abraham\n",
       "90       Felipe Anderson\n",
       "101        Janis Antiste\n",
       "121     Marko Arnautovi?\n",
       "125               Arthur\n",
       "              ...       \n",
       "2868       Kelvin Yeboah\n",
       "2879     Mattia Zaccagni\n",
       "2887      Nicolò Zaniolo\n",
       "2890        Duván Zapata\n",
       "2919         Milan ?uri?\n",
       "Name: Player, Length: 102, dtype: object"
      ]
     },
     "execution_count": 59,
     "metadata": {},
     "output_type": "execute_result"
    }
   ],
   "source": [
    "playerlistSA = df_FW[df_FW['Comp'] == 'Serie A']\n",
    "playerlistSA = playerlistSA['Player']\n",
    "playerlistSA"
   ]
  },
  {
   "cell_type": "markdown",
   "metadata": {},
   "source": [
    "def ShowGraph(League):\n",
    "    if(League == 'All Leagues'):\n",
    "        clear_output()\n",
    "        ShowAllGraph() \n",
    "    if(League == 'Bundesliga'):\n",
    "        clear_output()\n",
    "        ShowBLGraph()\n",
    "    if(League == 'La Liga'):\n",
    "        clear_output()\n",
    "        ShowLLGraph()\n",
    "    if(League == 'Serie A'):\n",
    "        clear_output()\n",
    "        ShowSAGraph()\n",
    "    if(League == 'Ligue 1'):\n",
    "        clear_output()\n",
    "        ShowL1Graph()\n",
    "    if(League == 'Premier League'):\n",
    "        clear_output()\n",
    "        ShowPLGraph()"
   ]
  }
 ],
 "metadata": {
  "interpreter": {
   "hash": "34edd1552241c76a27f1410a62215150e48c7e744b18597a202553c3634d7e1c"
  },
  "kernelspec": {
   "display_name": "Python 3.9.7 ('spenv')",
   "language": "python",
   "name": "python3"
  },
  "language_info": {
   "codemirror_mode": {
    "name": "ipython",
    "version": 3
   },
   "file_extension": ".py",
   "mimetype": "text/x-python",
   "name": "python",
   "nbconvert_exporter": "python",
   "pygments_lexer": "ipython3",
   "version": "3.9.7"
  },
  "orig_nbformat": 4
 },
 "nbformat": 4,
 "nbformat_minor": 2
}
